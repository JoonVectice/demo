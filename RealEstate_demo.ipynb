{
  "cells": [
    {
      "cell_type": "markdown",
      "metadata": {
        "id": "vOrtAPH3o5HX"
      },
      "source": [
        "<a href=\"https://colab.research.google.com/github/vectice/vectice-examples/blob/master/Notebooks/Vanilla/Tutorial/Tutorial_Modelling_All.ipynb\" target=\"_parent\"><img src=\"https://colab.research.google.com/assets/colab-badge.svg\" alt=\"Open In Colab\"/></a>"
      ]
    },
    {
      "cell_type": "markdown",
      "metadata": {
        "id": "B9PKJggkxfMo"
      },
      "source": [
        "## Preparation"
      ]
    },
    {
      "cell_type": "markdown",
      "metadata": {
        "id": "EBGxhcG7xZzr"
      },
      "source": [
        "Welcome to the Vectice tutorial notebook!\n",
        "\n",
        "\n",
        "Through this notebook, we will be illustrating how to log the following information into Vectice using the Vectice Python library:\n",
        "- Dataset versions\n",
        "- Model versions\n",
        "- Runs and lineage\n",
        "\n",
        "For more information on the tutorial, please refer to the \"Vectice Tutorial Page\" inside the app.\n",
        "\n"
      ]
    },
    {
      "cell_type": "markdown",
      "metadata": {
        "id": "3McxMcLPxkdJ"
      },
      "source": [
        "### Install Vectice and GCS packages"
      ]
    },
    {
      "cell_type": "code",
      "execution_count": null,
      "metadata": {
        "id": "aXrYRKNiIlOn"
      },
      "outputs": [],
      "source": [
        "## Requirements\n",
        "!pip3 install -q fsspec\n",
        "!pip3 install -q gcsfs\n",
        "\n",
        "#Install Vectice Python library \n",
        "# In this tutorial we will do code versioning using github, we also support gitlab\n",
        "# and bitbucket: !pip install -q \"vectice[github, gitlab, bitbucket]\"\n",
        "!pip install vectice[github]"
      ]
    },
    {
      "cell_type": "code",
      "execution_count": null,
      "metadata": {
        "id": "hHkVwYekVYxU"
      },
      "outputs": [],
      "source": [
        "#Verify if Vectice python library was installed\n",
        "!pip3 show vectice"
      ]
    },
    {
      "cell_type": "markdown",
      "metadata": {
        "id": "8a-NGpCnxo0A"
      },
      "source": [
        "### Retrieve the data from GCS\n",
        "\n",
        "We are going to load data stored in Google Cloud Storage, that is provided by Vectice for this tutorial.\n"
      ]
    },
    {
      "cell_type": "code",
      "execution_count": null,
      "metadata": {
        "id": "OkboM-VSI5wL"
      },
      "outputs": [],
      "source": [
        "# Download the \"JSON file\" from the \"Vectice Tutorial Page\" in the application so that \n",
        "# you can access the GCS bucket. The name of the JSON file should be \"readerKey.json\"\n",
        "\n",
        "from google.colab import files\n",
        "uploaded = files.upload()"
      ]
    },
    {
      "cell_type": "code",
      "execution_count": null,
      "metadata": {
        "id": "X44K8EaHJBAu"
      },
      "outputs": [],
      "source": [
        "import os\n",
        "import numpy as np\n",
        "import pandas as pd\n",
        "from matplotlib import pyplot as plt\n",
        "import seaborn as sns\n",
        "%matplotlib inline\n",
        "\n",
        "# Double check the json file name below so that it matches the name of the file that you uploaded.\n",
        "# Note that the key provided for this tutorial does not have permissions for you to write to GCS. \n",
        "# You can only use it to read the data.\n",
        "os.environ['GOOGLE_APPLICATION_CREDENTIALS'] = 'readerKey.json'\n",
        "\n",
        "# Once your file is loaded you can view your dataset in a Pandas dataframe.\n",
        "df = pd.read_csv('gs://vectice_tutorial/kc_house_data_cleaned.csv')\n",
        "\n",
        "# Run head to make sure the data was loaded properly\n",
        "df.head()\n"
      ]
    },
    {
      "cell_type": "markdown",
      "metadata": {
        "id": "kyBy8fwUo5Hc"
      },
      "source": [
        "## Connect to your Vectice account"
      ]
    },
    {
      "cell_type": "code",
      "execution_count": null,
      "metadata": {
        "id": "KsXBhrmeJ0sZ"
      },
      "outputs": [],
      "source": [
        "#Import the Vectice library\n",
        "from vectice import Vectice\n",
        "from vectice.models import JobType\n",
        "from vectice.entity.model import ModelType\n",
        "import logging\n",
        "logging.basicConfig(level=logging.INFO)\n",
        "\n",
        "# Specify the API endpoint for Vectice.\n",
        "os.environ['VECTICE_API_ENDPOINT']= \"beta.vectice.com\"\n",
        "\n",
        "# To use the Vectice Python library, you first need to authenticate your account using an API key.\n",
        "# You can generate an API key from the Vectice UI, by going to the \"My API Keys\" section under your profile's picture\n",
        "# Copy and paste your API key here\n",
        "os.environ['VECTICE_API_TOKEN'] = \"3DE0gaovk.029YNXM5rPxBl7jQzeGp83DE0gaovkRbA14yWKwmdVa6JgqLO0\"\n",
        "\n",
        "# Next, you need to specify the tutorial project where you will run this notebook using a \n",
        "# \"Project Token\". You can find the \"Project Token\" under the \"Settings\" tab of your project.\n",
        "\n",
        "# Copy and paste your Project Token here\n",
        "# autocode = True enables you to track your git changes for your code automatically every time you execute a run (see below).\n",
        "vectice = Vectice(project_token=\"YMwbovaNSaMYqA9ZyR9V\", autocode= True)"
      ]
    },
    {
      "cell_type": "markdown",
      "metadata": {
        "id": "c0k4Xz-sxtgZ"
      },
      "source": [
        "\n",
        "We will use the scikit-learn library for modeling and tracking experiments directly through the Vectice Python library."
      ]
    },
    {
      "cell_type": "code",
      "execution_count": null,
      "metadata": {
        "id": "G4Wu5npWJ5U1"
      },
      "outputs": [],
      "source": [
        "import string\n",
        "from math import sqrt\n",
        "\n",
        "# Load scikit-learn packages\n",
        "from sklearn.model_selection import train_test_split  # Model Selection\n",
        "from sklearn.metrics import mean_absolute_error, mean_squared_error  # Model Evaluation\n",
        "from sklearn.linear_model import LinearRegression  # Linear Regression\n",
        "from sklearn.tree import DecisionTreeRegressor, plot_tree  # Decision Tree Regression\n",
        "from sklearn.ensemble import RandomForestRegressor  # Random Forest Regression\n"
      ]
    },
    {
      "cell_type": "markdown",
      "metadata": {
        "id": "26ChSoJtxyiu"
      },
      "source": [
        "### Split dataset into training and testing\n",
        "\n",
        "Let's split the dataset into train and test sets and save them in GCS.\n",
        "(The GCS code has been commented out as the data has already been generated). For this section, we will re-use some datasets that have been already created to illustrate dataset versioning.\n"
      ]
    },
    {
      "cell_type": "markdown",
      "metadata": {
        "id": "p4zscdofkS7Y"
      },
      "source": [
        "We can get the list of the datasets existing in our project by calling **vectice.list_datasets()**"
      ]
    },
    {
      "cell_type": "code",
      "execution_count": null,
      "metadata": {
        "id": "pNzmFypXo5Hd"
      },
      "outputs": [],
      "source": [
        "vectice.list_datasets().list"
      ]
    },
    {
      "cell_type": "code",
      "execution_count": null,
      "metadata": {
        "id": "JU50t9fHKALv"
      },
      "outputs": [],
      "source": [
        "# The Vectice library automatically detects if there have been changes to the dataset you are using.\n",
        "# If it detects changes, it will generate a new version of your dataset automatically. \n",
        "# For this tutorial, we changed the data since Albert left the company.\n",
        "# So, the Vectice Python library will create a new dataset version the first time you execute this code.\n",
        "\n",
        "input_ds_version = vectice.create_dataset_version().with_parent_name(\"cleaned_king_county_house_data\")\n",
        "\n",
        "\n",
        "# Because we are using Colab in this tutorial example we are going to declare a reference to the code\n",
        "# manually. This will be added as a reference to the run we are going to create next.\n",
        "# If you are using your local environment with GIT installed or JupyterLab etc... the code\n",
        "# tracking is automated.\n",
        "input_code = Vectice.create_code_version_with_github_uri(\"https://github.com/vectice/vectice-examples\",\n",
        "                        \"Notebooks/Vanilla/Tutorial/Tutorial_Modelling_All.ipynb\") \n",
        "\n",
        "\n",
        "# Each execution for a given job is called a run. When creating a run you need to specify:\n",
        "# 1) a job name (mandatory): Job names are unique for each project\n",
        "# 2) a job type (optional)\n",
        "# 3) a run name (optional): The run names are unique for each job\n",
        "# Job names, job types and run names are useful to group and search runs in the Vectice UI.\n",
        "# For this run, we will use the job name \"80/20 Split\", the job type \"PREPARATION\" and the run name \"data-prep\"\n",
        "# You can have multiple runs with the same job name\n",
        "vectice.create_run(\"84/16 Split\", JobType.PREPARATION)\n",
        "vectice.start_run(inputs=[input_ds_version,input_code])\n",
        "# We will use an 80/20 split to prepare the data\n",
        "test_size = 0.2\n",
        "\n",
        "# We will set the random seed so we always generate the same split.\n",
        "random_state = 42\n",
        "\n",
        "train, test = train_test_split(df, test_size = test_size, random_state = random_state)\n",
        "\n",
        "# We commented out the code to persist the training and testing test in GCS, \n",
        "# because we already generated the data for you.\n",
        "# The key provided for this tutorial give you read access only to GCS.\n",
        "# We left the code below for convenience, in case you want to use your own credentials and GCS bucket.\n",
        "# train.to_csv (r'gs://vectice_tutorial/training_data.csv', index = False, header = True)\n",
        "# test.to_csv (r'gs://vectice_tutorial/testing_data.csv', index = False, header = True)\n",
        "\n",
        "# Generate X_train, X_test, y_train, y_test, which we will need for modeling\n",
        "X = df.drop(\"price\", axis=1).values\n",
        "y = df[\"price\"].values\n",
        "X_train, X_test, y_train, y_test = train_test_split(X, y, test_size=test_size, random_state=random_state)\n",
        "\n",
        "\n",
        "# Let's create new training and testing datasets.\n",
        "# We will use the existing dataset created by Albert, so that we can append new \n",
        "# dataset versions to it.\n",
        "\n",
        "train_ds_version = vectice.create_dataset_version().with_parent_name(\"King_County_Training\")\n",
        "test_ds_version = vectice.create_dataset_version().with_parent_name(\"King_County_Testing\")\n",
        "\n",
        "# Attach the output datasets to the run.\n",
        "# run.add_outputs(outputs=[train_ds_version,test_ds_version])\n",
        "#vectice.end_run(outputs=[train_ds_version,test_ds_version])\n",
        "# End the run, and attach the output datasets to it.\n",
        "vectice.end_run(outputs=[train_ds_version,test_ds_version])\n",
        "\n",
        "# We can preview one of our generated outputs to make sure that everything was executed properly.\n",
        "X_train\n"
      ]
    },
    {
      "cell_type": "markdown",
      "metadata": {
        "id": "tNlnYdQ_x8AZ"
      },
      "source": [
        "## Modeling"
      ]
    },
    {
      "cell_type": "markdown",
      "metadata": {
        "id": "14f1pDCdx82I"
      },
      "source": [
        "### Linear regression model"
      ]
    },
    {
      "cell_type": "markdown",
      "metadata": {
        "id": "jQU-NU7Mx_Mn"
      },
      "source": [
        "First, we will do a basic Linear Regression and observe the baseline accuracy metrics."
      ]
    },
    {
      "cell_type": "code",
      "execution_count": null,
      "metadata": {
        "id": "eu5z76qtMvW6"
      },
      "outputs": [],
      "source": [
        "# Each execution for a given job is called a run, for LR we will only do one run.\n",
        "# Setting a job's name is mandatory when starting a run \n",
        "# and is useful to group and search runs in the Vectice UI.\n",
        "\n",
        "# Linear regression model training\n",
        "vectice.create_run(\"LR-Model1\", JobType.TRAINING)\n",
        "vectice.start_run(inputs=[train_ds_version,test_ds_version,input_code])\n",
        "\n",
        "lr_rg = LinearRegression()\n",
        "lr_rg.fit(X_train, y_train)\n",
        "lr_pred = lr_rg.predict(X_test)\n",
        "\n",
        "# Evaluate Metrics\n",
        "MAE = mean_absolute_error(lr_pred, y_test)\n",
        "RMSE = sqrt(mean_squared_error(lr_pred, y_test))\n",
        "\n",
        "print(\"Root Mean Squared Error: \", RMSE)\n",
        "print(\"Mean Absolute Error: \", MAE)\n",
        "\n",
        "# Let's log the model we trained along with its metrics, as a new version \n",
        "# of the \"Regressor\" model in Vectice.\n",
        "## Here we use with_user_version() to create a new model version. You can provide a version name for your model version.\n",
        "# An error will be thrown if the given user version already exists and if you don't provide a version name,\n",
        "# the version name will be \"Version\"+\"the version number\".\n",
        "model_version = vectice.create_model_version().with_parent_name(\"Regressor\").with_algorithm(\"Linear Regression\").with_type(ModelType.REGRESSION).with_metric(\"RMSE\",RMSE).with_metric(\"MAE\",MAE).with_user_version()\n",
        "\n",
        "#run.add_outputs(outputs=[model_version])\n",
        "vectice.end_run(outputs=[model_version])\n"
      ]
    },
    {
      "cell_type": "markdown",
      "metadata": {
        "id": "HQ2GceL1lAdG"
      },
      "source": [
        "We can update a model's type or description by using **vectice.update_model()**"
      ]
    },
    {
      "cell_type": "code",
      "execution_count": null,
      "metadata": {
        "id": "Qt5UkHcGk7OF"
      },
      "outputs": [],
      "source": [
        "vectice.update_model(parent_name=\"Regressor\", model_type=ModelType.REGRESSION, description=\"Model description\")"
      ]
    },
    {
      "cell_type": "markdown",
      "metadata": {
        "id": "kHfTyn5ByD0M"
      },
      "source": [
        "### Decision tree model"
      ]
    },
    {
      "cell_type": "markdown",
      "metadata": {
        "id": "-FIP53giyFc_"
      },
      "source": [
        "In this section let's use the decision tree algorithm and compare the accuracy to the logistic regression algorithm. We will try different values for the tree_depth. We will log the model parameters and metrics in Vectice."
      ]
    },
    {
      "cell_type": "code",
      "execution_count": null,
      "metadata": {
        "id": "k-iP1UhKuLeN"
      },
      "outputs": [],
      "source": [
        "# We can do a few runs with different max depth for the tree.\n",
        "# Just change the value below and re-run this cell.\n",
        "# The model versions you created will show up in the Vectice UI as new versions \n",
        "# of the \"Regressor\" Model. You can easily compare them from there.\n",
        "tree_depth = 6\n",
        "\n",
        "vectice.create_run(\"DT-Model1\", JobType.TRAINING)\n",
        "vectice.start_run(inputs=[train_ds_version,test_ds_version,input_code])\n",
        "\n",
        "dtr = DecisionTreeRegressor(max_depth=tree_depth, min_samples_split=50)\n",
        "dtr.fit(X_train,y_train)\n",
        "dtr_pred = dtr.predict(X_test) \n",
        "\n",
        "data_feature_names = ['bedrooms', 'bathrooms', 'sqft_living', 'sqft_lot', 'floors',\n",
        "                    'waterfront', 'view', 'condition', 'grade', 'sqft_above',\n",
        "                    'sqft_basement', 'yr_built', 'yr_renovated', 'zipcode', 'lat',\n",
        "                    'long', 'sqft_living15', 'sqft_lot15']\n",
        "\n",
        "# Visualize the Decision Tree Model\n",
        "plt.figure(figsize=(25, 10))\n",
        "plot_tree(dtr, feature_names=data_feature_names, filled=True, fontsize=10)\n",
        "attachment_name = \"DecisionTree_\"+str(tree_depth)+\".png\"\n",
        "plt.savefig(attachment_name)\n",
        "## We can attach the decision tree plot to the model version by using .with_attachments([Attachments])\n",
        "MAE = mean_absolute_error(dtr_pred, y_test)\n",
        "RMSE = sqrt(mean_squared_error(dtr_pred, y_test))\n",
        "\n",
        "print(\"Root Mean Squared Error:\", RMSE)\n",
        "print(\"Mean Absolute Error:\", MAE)\n",
        "# Here we use with_user_version() to create a new model version. You can provide a version name \n",
        "# for your model version. An error will be thrown if the given user\n",
        "# version already exists and if you don't provide a version name, the version name will be \n",
        "# \"Version\"+\"the version number\".\n",
        "model_version = vectice.create_model_version().with_user_version().with_parent_name(\"Regressor\").with_algorithm(\"Decision Tree\").with_type(ModelType.REGRESSION).with_property(\"Tree Depth\",str(tree_depth)).with_metric(\"RMSE\",RMSE).with_metric(\"MAE\",MAE).with_attachments([attachment_name])\n",
        "\n",
        "run.add_outputs(outputs=[model_version])"
      ]
    },
    {
      "cell_type": "markdown",
      "metadata": {
        "id": "eSA7zAZGyQmu"
      },
      "source": [
        "### Random forest model\n",
        "\n",
        "Let's use the Random Forest Regression and do some hyper-parameter tuning on it."
      ]
    },
    {
      "cell_type": "code",
      "execution_count": null,
      "metadata": {
        "id": "B3I4rcTVu5PF"
      },
      "outputs": [],
      "source": [
        "# You can modify the parameters below and execute multiple runs to train \n",
        "# different versions of RF model.\n",
        "nb_trees = 30\n",
        "min_samples = 30\n",
        "\n",
        "vectice.create_run(job_name = \"RF-Model1\", job_type = JobType.TRAINING)\n",
        "\n",
        "vectice.start_run(inputs=[train_ds_version,test_ds_version,input_code])\n",
        "\n",
        "rf_regressor = RandomForestRegressor(n_estimators=nb_trees, min_samples_leaf=min_samples)\n",
        "rf_regressor.fit(X_train, y_train)\n",
        "rf_regressor.score(X_test, y_test)\n",
        "rf_regressor_pred = rf_regressor.predict(X_test)\n",
        "\n",
        "MAE = mean_absolute_error(rf_regressor_pred, y_test)\n",
        "RMSE = sqrt(mean_squared_error(rf_regressor_pred, y_test))\n",
        "\n",
        "print(\"Root Mean Squared Error:\", RMSE)\n",
        "print(\"Mean Absolute Error:\", MAE)\n",
        "\n",
        "# Here's an alternative version to declare metrics\n",
        "metrics = [(\"RMSE\",RMSE),\n",
        "          (\"MAE\",MAE)]\n",
        "## Here we use with_user_version() to create a new model version. You can provide a version\n",
        "## name for your model version. An error will be thrown if the given user\n",
        "## version already exists and if you don't provide a version name, the version name will be \"Version\"+\"the version number\".\n",
        "model_version = vectice.create_model_version().with_parent_name(\"Regressor\").with_algorithm(\"Random Forest\").with_type(ModelType.REGRESSION).with_property(\"nb_trees\",str(nb_trees)).with_property(\"min_samples\",str(min_samples)).with_metrics(metrics).with_user_version()\n",
        "\n",
        "run.add_outputs(outputs=[model_version])\n"
      ]
    },
    {
      "cell_type": "markdown",
      "metadata": {
        "id": "j76oGtISFT9b"
      },
      "source": [
        "We can get the list of the models existing in the project by calling **vectice.list_models()**"
      ]
    },
    {
      "cell_type": "code",
      "execution_count": null,
      "metadata": {
        "id": "Vlr0RV3u5__l"
      },
      "outputs": [],
      "source": [
        "vectice.list_models().list"
      ]
    },
    {
      "cell_type": "markdown",
      "metadata": {
        "id": "r7nUETzr8Obe"
      },
      "source": [
        "You can also get all the model versions you created in previous runs, for offline analysis and understanding in more details what's driving the models performance."
      ]
    },
    {
      "cell_type": "code",
      "execution_count": null,
      "metadata": {
        "id": "QoiQmynQ8Esd"
      },
      "outputs": [],
      "source": [
        "# Replace with your model's id\n",
        "vectice.list_model_versions_dataframe(model_id = 2513)"
      ]
    },
    {
      "cell_type": "markdown",
      "metadata": {
        "id": "QhotjOQUyTcH"
      },
      "source": [
        "We can see that the Random Forest Regressor model gives the lowest error and should be the preferred approach despite the complexity of the algorithm. Let's get the list of features' importance to discuss which variables are influencing the model the most."
      ]
    },
    {
      "cell_type": "code",
      "execution_count": null,
      "metadata": {
        "id": "CHcKAqzDyUQZ"
      },
      "outputs": [],
      "source": [
        "columns = ['bedrooms', 'bathrooms', 'sqft_living', 'sqft_lot', 'floors',\n",
        "           'waterfront', 'view', 'condition', 'grade', 'sqft_above',\n",
        "           'sqft_basement', 'yr_built', 'yr_renovated', 'zipcode', 'lat',\n",
        "           'long', 'sqft_living15', 'sqft_lot15']\n",
        "\n",
        "importance = pd.DataFrame({'Importance': rf_regressor.feature_importances_ * 100}, index=columns)\n",
        "importance.sort_values(by=\"Importance\", axis=0, ascending=True).plot(kind=\"barh\", color=\"b\")\n",
        "plt.xlabel(\"Variable Importance\")\n",
        "plt.gca().legend_ = None\n"
      ]
    },
    {
      "cell_type": "markdown",
      "metadata": {
        "id": "z_BYeT1hyZwj"
      },
      "source": [
        "Thank you and congratulations! You have succesfully completed the notebook part of the tutorial.\n",
        "\n",
        "In this notebooks we have illustrated how you can capture your experiments, hyper-parameters, dataset versions and metrics using Vectice Python library. \n",
        "You can now leverage Vectice UI for analysis, documentation and to engage a business conversation around the findings.\n",
        "\n",
        "Vectice enables you to:\n",
        "1. Make your experiments more reproducible.\n",
        "2. Track the data and code that is used for each experiment and model versions.\n",
        "3. Document your projects' progress and collaborate with your team in Vectice's UI.\n",
        "4. Discover previous work and reuse your team knowledge for new projects.\n",
        "\n",
        "We are constantly improving the Vectice Python library and the Vectice application. Let us know what improvements you would like to see in the solution and what your favorite features are after completing this tutorial. \n",
        "\n",
        "Feel free to explore more and come up with your own ideas on how to best start leveraging Vectice!\n"
      ]
    }
  ],
  "metadata": {
    "colab": {
      "collapsed_sections": [],
      "name": "RealEstate_demo.ipynb",
      "provenance": []
    },
    "kernelspec": {
      "display_name": "Python 3",
      "language": "python",
      "name": "python3"
    },
    "language_info": {
      "codemirror_mode": {
        "name": "ipython",
        "version": 3
      },
      "file_extension": ".py",
      "mimetype": "text/x-python",
      "name": "python",
      "nbconvert_exporter": "python",
      "pygments_lexer": "ipython3",
      "version": "3.8.5"
    }
  },
  "nbformat": 4,
  "nbformat_minor": 0
}